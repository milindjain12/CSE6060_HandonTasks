{
 "cells": [
  {
   "cell_type": "code",
   "execution_count": 1,
   "metadata": {},
   "outputs": [],
   "source": [
    "from selenium import webdriver\n",
    "from bs4 import BeautifulSoup\n",
    "import re\n",
    "\n",
    "from gensim.models import Word2Vec\n",
    "\n",
    "import nltk\n",
    "from nltk.corpus import stopwords\n",
    "\n",
    "stop_words = stopwords.words('english')"
   ]
  },
  {
   "cell_type": "code",
   "execution_count": 2,
   "metadata": {},
   "outputs": [
    {
     "name": "stderr",
     "output_type": "stream",
     "text": [
      "[WDM] - Current google-chrome version is 83.0.4103\n",
      "[WDM] - Get LATEST driver version for 83.0.4103\n",
      "[WDM] - Driver [C:\\Users\\milin\\.wdm\\drivers\\chromedriver\\win32\\83.0.4103.39\\chromedriver.exe] found in cache\n"
     ]
    },
    {
     "name": "stdout",
     "output_type": "stream",
     "text": [
      " \n"
     ]
    }
   ],
   "source": [
    "from webdriver_manager.chrome import ChromeDriverManager\n",
    "driver = webdriver.Chrome(ChromeDriverManager().install())\n",
    "driver.get(\"https://theprint.in/ilanomics/this-recession-is-different-india-can-bounce-back-much-faster-than-in-the-past/439612/\")"
   ]
  },
  {
   "cell_type": "code",
   "execution_count": 3,
   "metadata": {},
   "outputs": [
    {
     "name": "stdout",
     "output_type": "stream",
     "text": [
      "the us is now officially in recession. according to the world bank, 90 per cent of countries will be in recession in 2020 — the worst in eight decades. according to most forecasts, the global gross domestic product (gdp) is expected to contract. india will be in the same boat. the silver lining is that recent data suggests that employment has already started picking up in the country.this recession, driven by the covid-19 pandemic, is unique. unlike past recessions, it is not driven by oil price shocks or a financial crisis. the contraction in the production of goods and services has resulted not from an inherent weakness in the economy, but because of executive decisions. although it has created both demand and supply problems, predictions of a multi-year impact on economies may be excessively pessimistic. previous recessions were often triggered by permanent shocks. economies thus required a longer adjustment period to reach the new equilibrium.also read: targeted policies, managing debt, ‘green’ economies — gita gopinath’s covid survival guideus recession dates are determined by the national bureau of economic research (nber). normally they are based on broad-based economic activities slowing down for several months. the nber methodology tries to avoid picking up very short periods that are not business cycles.this time, the dating of the recession has been done due to the severity of declining economic activity. according to nber, the decline started in the first quarter of this year. it was a very sharp decline and that is why nber business cycle dating committee chose to declare it as a recession marking the end of the long expansion phase since 2009, in february 2020.“the usual definition of a recession involves a decline in economic activity that lasts more than a few months. however, in deciding whether to identify a recession, the committee weighs the depth of the contraction, its duration, and whether economic activity declined broadly across the economy (the diffusion of the downturn). the committee recognizes that the pandemic and the public health response have resulted in a downturn with different characteristics and dynamics than prior recessions,” the nber said in its statement.also read: why migrant workers are starting to return to cities & how this can revive economy fasterthe world bank’s june 2020 global economic outlook report shows that a large number of economies will witness a decline in per capita output this year — the biggest share since 1870.not only will industrial economies see a contraction, even emerging economies that normally only witness slowdowns, rather than actual contractions, will also see shrinkage for the first time in at least 60 years.according to the world bank, current projections suggest that global per capita gdp will decline by 6.2 per cent. this will make this the deepest recession since 1945-46.this recession is unique in that it is the only recession that has been triggered solely by a pandemic and the actions that were taken by various countries to contain it. previous recessions were driven by a variety of reasons such as the oil price shocks, financial crisis, monetary policy responses to high-inflation, the latin american debt crisis, etc.another distinct feature of the present recession is that for the first time there is a very high level of synchronisation. in the past if the us went into recession, it would affect other countries with the lag. also, emerging economies would be hit, but often see a slowdown in the growth rate rather than an actual contraction.the economic outlook report predicts that almost 90 per cent of countries are going to be in recession in 2020 together.also read: the 3 big unknowns that have forced nirmala sitharaman to be prudent with economic packagein terms of understanding how a global recession will affect the indian economy, over and above the india specific lockdown and its impact, we look back at previous recessions. in a 2009 paper co-written with my colleagues at the national institute of public finance and policy, we rejected the “de-coupling” hypothesis that had emerged after the global financial crisis in 2008. we found that business cycles in india have become increasingly more coordinated with business cycles in the us and the global economy.our analysis showed that after 1991, as the indian economy opened up over the years, the correlation between cyclical movements in india and those in the us and the world economy have increased significantly.this means that not only will we be witnessing an impact of our actions during the lockdown, but also the impact of the global economic recession. however, not all news is gloomy. since the nature of the recession is different from that of previous recessions, the speed at which we may be able to come out of it also appears to be different. this might be due to the fact that the economy can get back on track faster than when the shock to the economy, such as an oil price shock, is a permanent one and to which the economy has to make long term adjustments.may data from the centre for monitoring indian economy (cmie) shows that after the lockdown was eased, employment has started getting back on track. according to the data, 30 crore people were employed in may as against 28 crore in april and 39.6 crore in march. this recovery is faster than expected.how the difficulties of the temporary shock, the loss of business, piling debt, human suffering and the labour crisis are addressed will be important. how countries fare in the next few months, and the speed at which they can pull themselves out of the pandemic induced recession will depend on the policies they adopt to fight the virus as well as their relief, stimulus and reform packages.also read: why industries in maharashtra are reluctant to employ marathi workers despite shortage theprint is now on telegram. for the best reports & opinion on politics, governance and more, subscribe to theprint on telegram. subscribe to our youtube channel.a very well written article. i would be curious to know how the various sectors are handling this situation. institutions dependent on real estate of any kind would of course be hit badly by the lockdown.incremental growth figures over the previous quarter may start looking good, but the real question is will we reach the absolute numbers to pre-covid levels.when will a majority of indians earn, spend and invest like they did before covid upset the apple cart?hope this enthusiasm will be a reality in near future. we are still hopeful even after lapse of 6 years. the fact is that it is wasted decade for indian economy. hope that the current one will be productive and boost the economy. we indians will be in better position to earn our bread and butter.all is well . but where .oh only in some news channels.the only figure she based her article was 30 cr were employed in may. looks like this figure must have included the housewives shown as employed as housewives at home.the indian economy was in shambles even before the pandemic\n",
      "it just went over the cliff with the push from coronama’am, however, you have not mentioned exactly how the indian economy would bounce back soon because of this synchronous recession.save my details \n",
      "\n",
      "\n"
     ]
    }
   ],
   "source": [
    "content = driver.page_source\n",
    "soup = BeautifulSoup(content)\n",
    "all_paras = soup.find_all('p')\n",
    "text = ''\n",
    "for p in all_paras:\n",
    "    text += p.get_text().lower()\n",
    "\n",
    "print(text)"
   ]
  },
  {
   "cell_type": "code",
   "execution_count": 4,
   "metadata": {},
   "outputs": [
    {
     "name": "stdout",
     "output_type": "stream",
     "text": [
      "[['us', 'officially', 'recession'], ['according', 'world', 'bank', 'per', 'cent', 'countries', 'recession', 'worst', 'eight', 'decades'], ['according', 'forecasts', 'global', 'gross', 'domestic', 'product', 'gdp', 'expected', 'contract'], ['india', 'boat'], ['silver', 'lining', 'recent', 'data', 'suggests', 'employment', 'already', 'started', 'picking', 'country', 'recession', 'driven', 'covid', 'pandemic', 'unique'], ['unlike', 'past', 'recessions', 'driven', 'oil', 'price', 'shocks', 'financial', 'crisis'], ['contraction', 'production', 'goods', 'services', 'resulted', 'inherent', 'weakness', 'economy', 'executive', 'decisions'], ['although', 'created', 'demand', 'supply', 'problems', 'predictions', 'multi', 'year', 'impact', 'economies', 'may', 'excessively', 'pessimistic'], ['previous', 'recessions', 'often', 'triggered', 'permanent', 'shocks'], ['economies', 'thus', 'required', 'longer', 'adjustment', 'period', 'reach', 'new', 'equilibrium', 'also', 'read', 'targeted', 'policies', 'managing', 'debt', 'green', 'economies', 'gita', 'gopinath', 'covid', 'survival', 'guideus', 'recession', 'dates', 'determined', 'national', 'bureau', 'economic', 'research', 'nber'], ['normally', 'based', 'broad', 'based', 'economic', 'activities', 'slowing', 'several', 'months'], ['nber', 'methodology', 'tries', 'avoid', 'picking', 'short', 'periods', 'business', 'cycles', 'time', 'dating', 'recession', 'done', 'due', 'severity', 'declining', 'economic', 'activity'], ['according', 'nber', 'decline', 'started', 'first', 'quarter', 'year'], ['sharp', 'decline', 'nber', 'business', 'cycle', 'dating', 'committee', 'chose', 'declare', 'recession', 'marking', 'end', 'long', 'expansion', 'phase', 'since', 'february', 'usual', 'definition', 'recession', 'involves', 'decline', 'economic', 'activity', 'lasts', 'months'], ['however', 'deciding', 'whether', 'identify', 'recession', 'committee', 'weighs', 'depth', 'contraction', 'duration', 'whether', 'economic', 'activity', 'declined', 'broadly', 'across', 'economy', 'diffusion', 'downturn'], ['committee', 'recognizes', 'pandemic', 'public', 'health', 'response', 'resulted', 'downturn', 'different', 'characteristics', 'dynamics', 'prior', 'recessions', 'nber', 'said', 'statement', 'also', 'read', 'migrant', 'workers', 'starting', 'return', 'cities', 'revive', 'economy', 'fasterthe', 'world', 'bank', 'june', 'global', 'economic', 'outlook', 'report', 'shows', 'large', 'number', 'economies', 'witness', 'decline', 'per', 'capita', 'output', 'year', 'biggest', 'share', 'since', 'industrial', 'economies', 'see', 'contraction', 'even', 'emerging', 'economies', 'normally', 'witness', 'slowdowns', 'rather', 'actual', 'contractions', 'also', 'see', 'shrinkage', 'first', 'time', 'least', 'years', 'according', 'world', 'bank', 'current', 'projections', 'suggest', 'global', 'per', 'capita', 'gdp', 'decline', 'per', 'cent'], ['make', 'deepest', 'recession', 'since', 'recession', 'unique', 'recession', 'triggered', 'solely', 'pandemic', 'actions', 'taken', 'various', 'countries', 'contain'], ['previous', 'recessions', 'driven', 'variety', 'reasons', 'oil', 'price', 'shocks', 'financial', 'crisis', 'monetary', 'policy', 'responses', 'high', 'inflation', 'latin', 'american', 'debt', 'crisis', 'etc', 'another', 'distinct', 'feature', 'present', 'recession', 'first', 'time', 'high', 'level', 'synchronisation'], ['past', 'us', 'went', 'recession', 'would', 'affect', 'countries', 'lag'], ['also', 'emerging', 'economies', 'would', 'hit', 'often', 'see', 'slowdown', 'growth', 'rate', 'rather', 'actual', 'contraction', 'economic', 'outlook', 'report', 'predicts', 'almost', 'per', 'cent', 'countries', 'going', 'recession', 'together', 'also', 'read', 'big', 'unknowns', 'forced', 'nirmala', 'sitharaman', 'prudent', 'economic', 'packagein', 'terms', 'understanding', 'global', 'recession', 'affect', 'indian', 'economy', 'india', 'specific', 'lockdown', 'impact', 'look', 'back', 'previous', 'recessions'], ['paper', 'co', 'written', 'colleagues', 'national', 'institute', 'public', 'finance', 'policy', 'rejected', 'de', 'coupling', 'hypothesis', 'emerged', 'global', 'financial', 'crisis', 'found', 'business', 'cycles', 'india', 'become', 'increasingly', 'coordinated', 'business', 'cycles', 'us', 'global', 'economy', 'analysis', 'showed', 'indian', 'economy', 'opened', 'years', 'correlation', 'cyclical', 'movements', 'india', 'us', 'world', 'economy', 'increased', 'significantly', 'means', 'witnessing', 'impact', 'actions', 'lockdown', 'also', 'impact', 'global', 'economic', 'recession'], ['however', 'news', 'gloomy'], ['since', 'nature', 'recession', 'different', 'previous', 'recessions', 'speed', 'may', 'able', 'come', 'also', 'appears', 'different'], ['might', 'due', 'fact', 'economy', 'get', 'back', 'track', 'faster', 'shock', 'economy', 'oil', 'price', 'shock', 'permanent', 'one', 'economy', 'make', 'long', 'term', 'adjustments', 'may', 'data', 'centre', 'monitoring', 'indian', 'economy', 'cmie', 'shows', 'lockdown', 'eased', 'employment', 'started', 'getting', 'back', 'track'], ['according', 'data', 'crore', 'people', 'employed', 'may', 'crore', 'april', 'crore', 'march'], ['recovery', 'faster', 'expected', 'difficulties', 'temporary', 'shock', 'loss', 'business', 'piling', 'debt', 'human', 'suffering', 'labour', 'crisis', 'addressed', 'important'], ['countries', 'fare', 'next', 'months', 'speed', 'pull', 'pandemic', 'induced', 'recession', 'depend', 'policies', 'adopt', 'fight', 'virus', 'well', 'relief', 'stimulus', 'reform', 'packages', 'also', 'read', 'industries', 'maharashtra', 'reluctant', 'employ', 'marathi', 'workers', 'despite', 'shortage', 'theprint', 'telegram'], ['best', 'reports', 'opinion', 'politics', 'governance', 'subscribe', 'theprint', 'telegram'], ['subscribe', 'youtube', 'channel', 'well', 'written', 'article'], ['would', 'curious', 'know', 'various', 'sectors', 'handling', 'situation'], ['institutions', 'dependent', 'real', 'estate', 'kind', 'would', 'course', 'hit', 'badly', 'lockdown', 'incremental', 'growth', 'figures', 'previous', 'quarter', 'may', 'start', 'looking', 'good', 'real', 'question', 'reach', 'absolute', 'numbers', 'pre', 'covid', 'levels', 'majority', 'indians', 'earn', 'spend', 'invest', 'like', 'covid', 'upset', 'apple', 'cart', 'hope', 'enthusiasm', 'reality', 'near', 'future'], ['still', 'hopeful', 'even', 'lapse', 'years'], ['fact', 'wasted', 'decade', 'indian', 'economy'], ['hope', 'current', 'one', 'productive', 'boost', 'economy'], ['indians', 'better', 'position', 'earn', 'bread', 'butter', 'well'], ['oh', 'news', 'channels', 'figure', 'based', 'article', 'cr', 'employed', 'may'], ['looks', 'like', 'figure', 'must', 'included', 'housewives', 'shown', 'employed', 'housewives', 'home', 'indian', 'economy', 'shambles', 'even', 'pandemic', 'went', 'cliff', 'push', 'coronama', 'however', 'mentioned', 'exactly', 'indian', 'economy', 'would', 'bounce', 'back', 'soon', 'synchronous', 'recession', 'save', 'details']]\n"
     ]
    }
   ],
   "source": [
    "tokenized_sentence = nltk.sent_tokenize(text)\n",
    "for i in range(len(tokenized_sentence)):\n",
    "    tokenized_sentence[i] = re.sub('[^a-zA-Z]', ' ', tokenized_sentence[i])\n",
    "    tokenized_sentence[i] = re.sub(r'\\s+', ' ', tokenized_sentence[i])\n",
    "\n",
    "all_words = [nltk.word_tokenize(sent) for sent in tokenized_sentence]\n",
    "\n",
    "for i in range(len(all_words)):\n",
    "    all_words[i] = [w for w in all_words[i] if w not in stop_words]\n",
    "\n",
    "print(all_words)"
   ]
  },
  {
   "cell_type": "code",
   "execution_count": 5,
   "metadata": {
    "scrolled": true
   },
   "outputs": [
    {
     "name": "stdout",
     "output_type": "stream",
     "text": [
      "{'us': <gensim.models.keyedvectors.Vocab object at 0x0000024660DC4288>, 'recession': <gensim.models.keyedvectors.Vocab object at 0x0000024663EA3448>, 'according': <gensim.models.keyedvectors.Vocab object at 0x0000024663EA3308>, 'world': <gensim.models.keyedvectors.Vocab object at 0x0000024663EA33C8>, 'bank': <gensim.models.keyedvectors.Vocab object at 0x0000024663EA3388>, 'per': <gensim.models.keyedvectors.Vocab object at 0x0000024663EA34C8>, 'cent': <gensim.models.keyedvectors.Vocab object at 0x0000024663EA3688>, 'countries': <gensim.models.keyedvectors.Vocab object at 0x0000024663EA3808>, 'global': <gensim.models.keyedvectors.Vocab object at 0x0000024663EA3348>, 'gdp': <gensim.models.keyedvectors.Vocab object at 0x0000024663EA3288>, 'expected': <gensim.models.keyedvectors.Vocab object at 0x0000024663EA38C8>, 'india': <gensim.models.keyedvectors.Vocab object at 0x0000024663EA3A88>, 'data': <gensim.models.keyedvectors.Vocab object at 0x0000024663EA3B88>, 'employment': <gensim.models.keyedvectors.Vocab object at 0x0000024663EA3AC8>, 'started': <gensim.models.keyedvectors.Vocab object at 0x0000024663EA3948>, 'picking': <gensim.models.keyedvectors.Vocab object at 0x0000024663EA39C8>, 'driven': <gensim.models.keyedvectors.Vocab object at 0x0000024663EA3A08>, 'covid': <gensim.models.keyedvectors.Vocab object at 0x0000024663EA3988>, 'pandemic': <gensim.models.keyedvectors.Vocab object at 0x0000024663EA3908>, 'unique': <gensim.models.keyedvectors.Vocab object at 0x0000024663EA3848>, 'past': <gensim.models.keyedvectors.Vocab object at 0x0000024663EA3708>, 'recessions': <gensim.models.keyedvectors.Vocab object at 0x0000024663EA3788>, 'oil': <gensim.models.keyedvectors.Vocab object at 0x0000024663EA37C8>, 'price': <gensim.models.keyedvectors.Vocab object at 0x0000024663EA3748>, 'shocks': <gensim.models.keyedvectors.Vocab object at 0x0000024663EA3548>, 'financial': <gensim.models.keyedvectors.Vocab object at 0x0000024663EA35C8>, 'crisis': <gensim.models.keyedvectors.Vocab object at 0x0000024663EA3648>, 'contraction': <gensim.models.keyedvectors.Vocab object at 0x0000024663EA3608>, 'resulted': <gensim.models.keyedvectors.Vocab object at 0x0000024663EA3588>, 'economy': <gensim.models.keyedvectors.Vocab object at 0x0000024663EA3508>, 'year': <gensim.models.keyedvectors.Vocab object at 0x0000024663EA3C48>, 'impact': <gensim.models.keyedvectors.Vocab object at 0x0000024663EA3C88>, 'economies': <gensim.models.keyedvectors.Vocab object at 0x0000024663EA3D48>, 'may': <gensim.models.keyedvectors.Vocab object at 0x0000024663EA3CC8>, 'previous': <gensim.models.keyedvectors.Vocab object at 0x0000024663EA3E88>, 'often': <gensim.models.keyedvectors.Vocab object at 0x0000024663EA3E48>, 'triggered': <gensim.models.keyedvectors.Vocab object at 0x00000246636F2E48>, 'permanent': <gensim.models.keyedvectors.Vocab object at 0x0000024664007608>, 'reach': <gensim.models.keyedvectors.Vocab object at 0x00000246640076C8>, 'also': <gensim.models.keyedvectors.Vocab object at 0x0000024664007748>, 'read': <gensim.models.keyedvectors.Vocab object at 0x0000024664007808>, 'policies': <gensim.models.keyedvectors.Vocab object at 0x0000024664007888>, 'debt': <gensim.models.keyedvectors.Vocab object at 0x0000024664007908>, 'national': <gensim.models.keyedvectors.Vocab object at 0x0000024664007988>, 'economic': <gensim.models.keyedvectors.Vocab object at 0x0000024664007A48>, 'nber': <gensim.models.keyedvectors.Vocab object at 0x0000024664007A88>, 'normally': <gensim.models.keyedvectors.Vocab object at 0x0000024664007B48>, 'based': <gensim.models.keyedvectors.Vocab object at 0x0000024664007B88>, 'months': <gensim.models.keyedvectors.Vocab object at 0x0000024664007C08>, 'business': <gensim.models.keyedvectors.Vocab object at 0x0000024664007C48>, 'cycles': <gensim.models.keyedvectors.Vocab object at 0x0000024664007CC8>, 'time': <gensim.models.keyedvectors.Vocab object at 0x0000024664007D08>, 'dating': <gensim.models.keyedvectors.Vocab object at 0x0000024664007D88>, 'due': <gensim.models.keyedvectors.Vocab object at 0x0000024664007DC8>, 'activity': <gensim.models.keyedvectors.Vocab object at 0x0000024664007E48>, 'decline': <gensim.models.keyedvectors.Vocab object at 0x0000024664007EC8>, 'first': <gensim.models.keyedvectors.Vocab object at 0x0000024664007F48>, 'quarter': <gensim.models.keyedvectors.Vocab object at 0x0000024664007F88>, 'committee': <gensim.models.keyedvectors.Vocab object at 0x0000024664007FC8>, 'long': <gensim.models.keyedvectors.Vocab object at 0x0000024664007048>, 'since': <gensim.models.keyedvectors.Vocab object at 0x00000246640070C8>, 'however': <gensim.models.keyedvectors.Vocab object at 0x0000024664007108>, 'whether': <gensim.models.keyedvectors.Vocab object at 0x0000024664007148>, 'downturn': <gensim.models.keyedvectors.Vocab object at 0x0000024664007208>, 'public': <gensim.models.keyedvectors.Vocab object at 0x0000024664007248>, 'different': <gensim.models.keyedvectors.Vocab object at 0x00000246640072C8>, 'workers': <gensim.models.keyedvectors.Vocab object at 0x0000024664007348>, 'outlook': <gensim.models.keyedvectors.Vocab object at 0x00000246640073C8>, 'report': <gensim.models.keyedvectors.Vocab object at 0x0000024664007448>, 'shows': <gensim.models.keyedvectors.Vocab object at 0x00000246640074C8>, 'witness': <gensim.models.keyedvectors.Vocab object at 0x0000024664005148>, 'capita': <gensim.models.keyedvectors.Vocab object at 0x0000024664005448>, 'see': <gensim.models.keyedvectors.Vocab object at 0x0000024664005488>, 'even': <gensim.models.keyedvectors.Vocab object at 0x00000246640055C8>, 'emerging': <gensim.models.keyedvectors.Vocab object at 0x0000024664005608>, 'rather': <gensim.models.keyedvectors.Vocab object at 0x00000246640057C8>, 'actual': <gensim.models.keyedvectors.Vocab object at 0x0000024664005808>, 'years': <gensim.models.keyedvectors.Vocab object at 0x00000246640058C8>, 'current': <gensim.models.keyedvectors.Vocab object at 0x0000024664005908>, 'make': <gensim.models.keyedvectors.Vocab object at 0x0000024664005948>, 'actions': <gensim.models.keyedvectors.Vocab object at 0x00000246640059C8>, 'various': <gensim.models.keyedvectors.Vocab object at 0x0000024664005A88>, 'policy': <gensim.models.keyedvectors.Vocab object at 0x0000024664005B88>, 'high': <gensim.models.keyedvectors.Vocab object at 0x0000024664005BC8>, 'went': <gensim.models.keyedvectors.Vocab object at 0x0000024664005C48>, 'would': <gensim.models.keyedvectors.Vocab object at 0x0000024664005D48>, 'affect': <gensim.models.keyedvectors.Vocab object at 0x0000024664005E08>, 'hit': <gensim.models.keyedvectors.Vocab object at 0x0000024664005E48>, 'growth': <gensim.models.keyedvectors.Vocab object at 0x0000024664005E88>, 'indian': <gensim.models.keyedvectors.Vocab object at 0x0000024664005F48>, 'lockdown': <gensim.models.keyedvectors.Vocab object at 0x0000024664006BC8>, 'back': <gensim.models.keyedvectors.Vocab object at 0x0000024664006C08>, 'written': <gensim.models.keyedvectors.Vocab object at 0x0000024664006C48>, 'news': <gensim.models.keyedvectors.Vocab object at 0x0000024664006C88>, 'speed': <gensim.models.keyedvectors.Vocab object at 0x0000024664006D48>, 'fact': <gensim.models.keyedvectors.Vocab object at 0x0000024664006DC8>, 'track': <gensim.models.keyedvectors.Vocab object at 0x0000024664006E48>, 'faster': <gensim.models.keyedvectors.Vocab object at 0x0000024664006EC8>, 'shock': <gensim.models.keyedvectors.Vocab object at 0x0000024664006F08>, 'one': <gensim.models.keyedvectors.Vocab object at 0x0000024664006848>, 'crore': <gensim.models.keyedvectors.Vocab object at 0x00000246640068C8>, 'employed': <gensim.models.keyedvectors.Vocab object at 0x0000024664006988>, 'well': <gensim.models.keyedvectors.Vocab object at 0x00000246640069C8>, 'theprint': <gensim.models.keyedvectors.Vocab object at 0x0000024664006A48>, 'telegram': <gensim.models.keyedvectors.Vocab object at 0x0000024664006AC8>, 'subscribe': <gensim.models.keyedvectors.Vocab object at 0x0000024664006588>, 'article': <gensim.models.keyedvectors.Vocab object at 0x00000246640065C8>, 'real': <gensim.models.keyedvectors.Vocab object at 0x0000024664006608>, 'indians': <gensim.models.keyedvectors.Vocab object at 0x0000024664006648>, 'earn': <gensim.models.keyedvectors.Vocab object at 0x0000024664006688>, 'like': <gensim.models.keyedvectors.Vocab object at 0x0000024664006748>, 'hope': <gensim.models.keyedvectors.Vocab object at 0x0000024664006308>, 'figure': <gensim.models.keyedvectors.Vocab object at 0x00000246640062C8>, 'housewives': <gensim.models.keyedvectors.Vocab object at 0x0000024664006408>}\n"
     ]
    }
   ],
   "source": [
    "word2vec = Word2Vec(all_words, min_count=2)\n",
    "vocabulary = word2vec.wv.vocab"
   ]
  },
  {
   "cell_type": "code",
   "execution_count": 7,
   "metadata": {},
   "outputs": [
    {
     "name": "stdout",
     "output_type": "stream",
     "text": [
      "[-4.5330188e-04 -1.1674849e-03  1.6544232e-03 -3.0436111e-03\n",
      "  9.8285032e-04 -1.5089214e-03 -2.9345453e-03  2.2854134e-03\n",
      "  4.4074520e-03  5.2336708e-04 -2.1992733e-03  2.6457293e-03\n",
      " -1.0802809e-03 -2.4995379e-04  3.2168853e-03  2.6822081e-03\n",
      " -2.3963836e-03  3.8089012e-03 -3.9684875e-03 -3.1873612e-03\n",
      " -3.3460825e-03  2.2923178e-03  5.0284863e-03  6.5940263e-04\n",
      " -9.6307800e-04 -1.6957242e-03 -2.0120144e-03  2.5367111e-03\n",
      "  4.6970737e-03  4.5932978e-03  3.9059748e-03  2.2682748e-03\n",
      " -1.6581162e-04 -1.2939784e-03 -2.4130747e-03  1.5803253e-06\n",
      " -2.4368293e-03 -4.5940764e-03  5.2205235e-04  4.0845308e-03\n",
      " -4.1351523e-04 -3.3015383e-03  1.2710973e-03  3.2444862e-03\n",
      " -2.4949801e-03 -2.6136301e-03  1.6366794e-03  6.2382955e-04\n",
      " -1.3680352e-04 -3.9360845e-03  3.3628324e-03 -2.8000289e-04\n",
      " -4.2742109e-03  3.0613646e-03 -3.3522688e-04 -3.9923447e-03\n",
      " -7.6504261e-04 -3.4231397e-03  2.5787246e-03  2.2016836e-03\n",
      "  2.5860738e-04 -8.7043719e-04  3.2581031e-04  4.0744268e-03\n",
      "  5.0749048e-03 -2.6926347e-03 -1.8247920e-03 -4.1150758e-03\n",
      "  2.6699854e-04  2.7647067e-03  4.9353703e-03  2.6662664e-03\n",
      " -1.7620178e-03 -1.3422063e-03 -4.9499474e-03 -1.4162709e-03\n",
      " -3.2254036e-03 -1.9837401e-03  3.7767519e-03 -1.3517803e-03\n",
      "  3.7606184e-03  4.1414876e-03 -9.9983171e-04  2.0113534e-03\n",
      "  2.3530570e-03  2.7025924e-03 -1.5174304e-03  1.3701521e-03\n",
      " -3.7714846e-03  9.7575533e-04 -2.9637483e-03  1.2173592e-03\n",
      "  3.9996561e-03  1.7008462e-03  3.9093457e-03  4.1071922e-03\n",
      " -8.3036994e-04  2.1146503e-03 -1.8351591e-03  2.8037077e-03]\n"
     ]
    }
   ],
   "source": [
    "v1 = word2vec.wv['permanent']\n",
    "print(v1)"
   ]
  },
  {
   "cell_type": "code",
   "execution_count": 10,
   "metadata": {},
   "outputs": [
    {
     "name": "stdout",
     "output_type": "stream",
     "text": [
      "('various', 0.2248075008392334)\n",
      "('workers', 0.19479680061340332)\n",
      "('dating', 0.19234879314899445)\n",
      "('gdp', 0.1870536357164383)\n",
      "('housewives', 0.18138189613819122)\n",
      "('previous', 0.16242164373397827)\n",
      "('figure', 0.159046471118927)\n",
      "('crore', 0.1476018726825714)\n",
      "('covid', 0.14318975806236267)\n",
      "('hit', 0.14026325941085815)\n"
     ]
    }
   ],
   "source": [
    "sim_words = word2vec.wv.most_similar('economy')\n",
    "for sim in sim_words:\n",
    "    print(sim)"
   ]
  },
  {
   "cell_type": "code",
   "execution_count": null,
   "metadata": {},
   "outputs": [],
   "source": []
  }
 ],
 "metadata": {
  "kernelspec": {
   "display_name": "Python 3",
   "language": "python",
   "name": "python3"
  },
  "language_info": {
   "codemirror_mode": {
    "name": "ipython",
    "version": 3
   },
   "file_extension": ".py",
   "mimetype": "text/x-python",
   "name": "python",
   "nbconvert_exporter": "python",
   "pygments_lexer": "ipython3",
   "version": "3.7.6"
  }
 },
 "nbformat": 4,
 "nbformat_minor": 4
}
